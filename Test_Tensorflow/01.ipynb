{
  "nbformat": 4,
  "nbformat_minor": 0,
  "metadata": {
    "colab": {
      "name": "Test_Tensorflow.ipynb",
      "provenance": [],
      "include_colab_link": true
    },
    "kernelspec": {
      "name": "python3",
      "display_name": "Python 3"
    }
  },
  "cells": [
    {
      "cell_type": "markdown",
      "metadata": {
        "id": "view-in-github",
        "colab_type": "text"
      },
      "source": [
        "<a href=\"https://colab.research.google.com/github/isaacwein/notebook/blob/main/Test_Tensorflow/01.ipynb\" target=\"_parent\"><img src=\"https://colab.research.google.com/assets/colab-badge.svg\" alt=\"Open In Colab\"/></a>"
      ]
    },
    {
      "cell_type": "markdown",
      "metadata": {
        "id": "3uaWiUogoX94"
      },
      "source": [
        "# **Test Tensoflow** 1"
      ]
    },
    {
      "cell_type": "code",
      "metadata": {
        "id": "1N-8HXcAoL-P"
      },
      "source": [
        "import tensorflow as tf\n",
        "import numpy as np"
      ],
      "execution_count": 1,
      "outputs": []
    },
    {
      "cell_type": "markdown",
      "metadata": {
        "id": "ADD4xG3zrtd9"
      },
      "source": [
        "**Require:**<br />\n",
        ">Tensorflow version: 2.0 and up<br />\n",
        ">Pyhton verton 3.6 an up<br />"
      ]
    },
    {
      "cell_type": "code",
      "metadata": {
        "id": "tCkpmUzprvgn",
        "outputId": "d40787d8-6887-4e30-9d6b-003bf72a0f57",
        "colab": {
          "base_uri": "https://localhost:8080/",
          "height": 53
        }
      },
      "source": [
        "print(\"Tensorflow version:\",tf.__version__)\n",
        "print(\"Numpy version:\",np.__version__)"
      ],
      "execution_count": 3,
      "outputs": [
        {
          "output_type": "stream",
          "text": [
            "Tensorflow version: 2.3.0\n",
            "Numpy version: 1.18.5\n"
          ],
          "name": "stdout"
        }
      ]
    }
  ]
}