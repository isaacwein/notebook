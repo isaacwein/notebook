{
  "nbformat": 4,
  "nbformat_minor": 0,
  "metadata": {
    "colab": {
      "name": "Test_Tensorflow.ipynb",
      "provenance": [],
      "authorship_tag": "ABX9TyNH3pxEVE26sf4k04z4vgYc",
      "include_colab_link": true
    },
    "kernelspec": {
      "name": "python3",
      "display_name": "Python 3"
    }
  },
  "cells": [
    {
      "cell_type": "markdown",
      "metadata": {
        "id": "view-in-github",
        "colab_type": "text"
      },
      "source": [
        "<a href=\"https://colab.research.google.com/github/isaacwein/notebook/blob/main/Test_Tensorflow/01.ipynb\" target=\"_parent\"><img src=\"https://colab.research.google.com/assets/colab-badge.svg\" alt=\"Open In Colab\"/></a>"
      ]
    },
    {
      "cell_type": "markdown",
      "metadata": {
        "id": "3uaWiUogoX94"
      },
      "source": [
        "# **Test Tensoflow** 1"
      ]
    },
    {
      "cell_type": "code",
      "metadata": {
        "id": "1N-8HXcAoL-P"
      },
      "source": [
        ""
      ],
      "execution_count": null,
      "outputs": []
    }
  ]
}