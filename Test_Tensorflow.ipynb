{
  "nbformat": 4,
  "nbformat_minor": 0,
  "metadata": {
    "colab": {
      "name": "Test_Tensorflow.ipynb",
      "provenance": [],
      "collapsed_sections": [],
      "toc_visible": true,
      "include_colab_link": true
    },
    "kernelspec": {
      "name": "python3",
      "display_name": "Python 3"
    },
    "accelerator": "TPU"
  },
  "cells": [
    {
      "cell_type": "markdown",
      "metadata": {
        "id": "view-in-github",
        "colab_type": "text"
      },
      "source": [
        "<a href=\"https://colab.research.google.com/github/isaacwein/notebook/blob/main/Test_Tensorflow.ipynb\" target=\"_parent\"><img src=\"https://colab.research.google.com/assets/colab-badge.svg\" alt=\"Open In Colab\"/></a>"
      ]
    },
    {
      "cell_type": "markdown",
      "metadata": {
        "id": "3uaWiUogoX94"
      },
      "source": [
        "# **Test Tensoflow** 1"
      ]
    },
    {
      "cell_type": "markdown",
      "metadata": {
        "id": "qK-o_aAd9vFu"
      },
      "source": [
        "#### Required Libraries"
      ]
    },
    {
      "cell_type": "code",
      "metadata": {
        "id": "1N-8HXcAoL-P"
      },
      "source": [
        "import sys\n",
        "import tensorflow as tf\n",
        "import numpy as np"
      ],
      "execution_count": 1,
      "outputs": []
    },
    {
      "cell_type": "markdown",
      "metadata": {
        "id": "ADD4xG3zrtd9"
      },
      "source": [
        "#### **Require:**<br />\n",
        ">#### Tensorflow version: 2.0 and up<br />\n",
        ">#### Pyhton verton 3.6 an up<br />"
      ]
    },
    {
      "cell_type": "code",
      "metadata": {
        "id": "tCkpmUzprvgn",
        "outputId": "8c3bc06d-6a6d-4955-813e-37ed66ec3794",
        "colab": {
          "base_uri": "https://localhost:8080/",
          "height": 107
        }
      },
      "source": [
        "\n",
        "print(\"Python version:\",sys.version)\n",
        "print(\"Version info:\", sys.version_info)\n",
        "print(\"Tensorflow version:\",tf.__version__)\n",
        "print(\"Numpy version:\",np.__version__)"
      ],
      "execution_count": 2,
      "outputs": [
        {
          "output_type": "stream",
          "text": [
            "Python version: 3.6.9 (default, Jul 17 2020, 12:50:27) \n",
            "[GCC 8.4.0]\n",
            "Version info: sys.version_info(major=3, minor=6, micro=9, releaselevel='final', serial=0)\n",
            "Tensorflow version: 2.3.0\n",
            "Numpy version: 1.18.5\n"
          ],
          "name": "stdout"
        }
      ]
    },
    {
      "cell_type": "markdown",
      "metadata": {
        "id": "aJyGVg-bxrwP"
      },
      "source": [
        "#### **Cenecting to my google drive**"
      ]
    },
    {
      "cell_type": "code",
      "metadata": {
        "id": "vkQEjN3-xmNl"
      },
      "source": [
        "# from google.colab import drive\n",
        "# drive.mount('/content/drive')"
      ],
      "execution_count": 3,
      "outputs": []
    }
  ]
}